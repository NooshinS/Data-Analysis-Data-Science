{
  "nbformat": 4,
  "nbformat_minor": 0,
  "metadata": {
    "colab": {
      "name": "BankClassification.ipynb",
      "provenance": [],
      "authorship_tag": "ABX9TyPICbo6i30D8WPokk2siLRm",
      "include_colab_link": true
    },
    "kernelspec": {
      "name": "python3",
      "display_name": "Python 3"
    },
    "language_info": {
      "name": "python"
    }
  },
  "cells": [
    {
      "cell_type": "markdown",
      "metadata": {
        "id": "view-in-github",
        "colab_type": "text"
      },
      "source": [
        "<a href=\"https://colab.research.google.com/github/NooshinS/Machine-Learning/blob/main/BankClassification.ipynb\" target=\"_parent\"><img src=\"https://colab.research.google.com/assets/colab-badge.svg\" alt=\"Open In Colab\"/></a>"
      ]
    },
    {
      "cell_type": "code",
      "metadata": {
        "id": "bOqIDmlbgokX"
      },
      "source": [
        "#Import libraries\n",
        "import numpy as np\n",
        "import pandas as pd\n",
        "import matplotlib.pyplot as plt\n",
        "import seaborn as sns\n",
        "#Scaling\n",
        "from sklearn.preprocessing import StandardScaler\n",
        "#Encoding\n",
        "from sklearn.preprocessing import LabelEncoder\n",
        "from sklearn.compose import ColumnTransformer\n",
        "from sklearn.preprocessing import OneHotEncoder\n",
        "#Splitting\n",
        "from sklearn.model_selection import train_test_split\n",
        "#Balancing\n",
        "import imblearn\n",
        "from imblearn.over_sampling import ADASYN\n",
        "#Machine Learning\n",
        "from sklearn.tree import DecisionTreeClassifier\n",
        "from sklearn.svm import SVC\n",
        "from sklearn.neighbors import KNeighborsClassifier\n",
        "from sklearn.linear_model import LogisticRegression\n",
        "from sklearn.ensemble import RandomForestClassifier\n",
        "from sklearn.naive_bayes import GaussianNB\n",
        "#Confusion Matrix\n",
        "from sklearn.metrics import confusion_matrix, accuracy_score, roc_curve, roc_auc_score"
      ],
      "execution_count": null,
      "outputs": []
    },
    {
      "cell_type": "code",
      "metadata": {
        "colab": {
          "base_uri": "https://localhost:8080/",
          "height": 856
        },
        "id": "DyRiE9NGneAu",
        "outputId": "d5f52051-8765-44e3-f0f9-e59329f2ab62"
      },
      "source": [
        "#Dataset\n",
        "df=pd.read_csv('Banking_train.csv')\n",
        "display(df.head())\n",
        "display(df.describe())\n",
        "display(df.dtypes.value_counts())\n",
        "df.isnull().sum()"
      ],
      "execution_count": null,
      "outputs": [
        {
          "output_type": "display_data",
          "data": {
            "text/html": [
              "<div>\n",
              "<style scoped>\n",
              "    .dataframe tbody tr th:only-of-type {\n",
              "        vertical-align: middle;\n",
              "    }\n",
              "\n",
              "    .dataframe tbody tr th {\n",
              "        vertical-align: top;\n",
              "    }\n",
              "\n",
              "    .dataframe thead th {\n",
              "        text-align: right;\n",
              "    }\n",
              "</style>\n",
              "<table border=\"1\" class=\"dataframe\">\n",
              "  <thead>\n",
              "    <tr style=\"text-align: right;\">\n",
              "      <th></th>\n",
              "      <th>age</th>\n",
              "      <th>job</th>\n",
              "      <th>marital</th>\n",
              "      <th>education</th>\n",
              "      <th>default</th>\n",
              "      <th>housing</th>\n",
              "      <th>loan</th>\n",
              "      <th>contact</th>\n",
              "      <th>month</th>\n",
              "      <th>day_of_week</th>\n",
              "      <th>duration</th>\n",
              "      <th>campaign</th>\n",
              "      <th>pdays</th>\n",
              "      <th>previous</th>\n",
              "      <th>poutcome</th>\n",
              "      <th>y</th>\n",
              "    </tr>\n",
              "  </thead>\n",
              "  <tbody>\n",
              "    <tr>\n",
              "      <th>0</th>\n",
              "      <td>49</td>\n",
              "      <td>blue-collar</td>\n",
              "      <td>married</td>\n",
              "      <td>basic.9y</td>\n",
              "      <td>unknown</td>\n",
              "      <td>no</td>\n",
              "      <td>no</td>\n",
              "      <td>cellular</td>\n",
              "      <td>nov</td>\n",
              "      <td>wed</td>\n",
              "      <td>227</td>\n",
              "      <td>4</td>\n",
              "      <td>999</td>\n",
              "      <td>0</td>\n",
              "      <td>nonexistent</td>\n",
              "      <td>no</td>\n",
              "    </tr>\n",
              "    <tr>\n",
              "      <th>1</th>\n",
              "      <td>37</td>\n",
              "      <td>entrepreneur</td>\n",
              "      <td>married</td>\n",
              "      <td>university.degree</td>\n",
              "      <td>no</td>\n",
              "      <td>no</td>\n",
              "      <td>no</td>\n",
              "      <td>telephone</td>\n",
              "      <td>nov</td>\n",
              "      <td>wed</td>\n",
              "      <td>202</td>\n",
              "      <td>2</td>\n",
              "      <td>999</td>\n",
              "      <td>1</td>\n",
              "      <td>failure</td>\n",
              "      <td>no</td>\n",
              "    </tr>\n",
              "    <tr>\n",
              "      <th>2</th>\n",
              "      <td>78</td>\n",
              "      <td>retired</td>\n",
              "      <td>married</td>\n",
              "      <td>basic.4y</td>\n",
              "      <td>no</td>\n",
              "      <td>no</td>\n",
              "      <td>no</td>\n",
              "      <td>cellular</td>\n",
              "      <td>jul</td>\n",
              "      <td>mon</td>\n",
              "      <td>1148</td>\n",
              "      <td>1</td>\n",
              "      <td>999</td>\n",
              "      <td>0</td>\n",
              "      <td>nonexistent</td>\n",
              "      <td>yes</td>\n",
              "    </tr>\n",
              "    <tr>\n",
              "      <th>3</th>\n",
              "      <td>36</td>\n",
              "      <td>admin.</td>\n",
              "      <td>married</td>\n",
              "      <td>university.degree</td>\n",
              "      <td>no</td>\n",
              "      <td>yes</td>\n",
              "      <td>no</td>\n",
              "      <td>telephone</td>\n",
              "      <td>may</td>\n",
              "      <td>mon</td>\n",
              "      <td>120</td>\n",
              "      <td>2</td>\n",
              "      <td>999</td>\n",
              "      <td>0</td>\n",
              "      <td>nonexistent</td>\n",
              "      <td>no</td>\n",
              "    </tr>\n",
              "    <tr>\n",
              "      <th>4</th>\n",
              "      <td>59</td>\n",
              "      <td>retired</td>\n",
              "      <td>divorced</td>\n",
              "      <td>university.degree</td>\n",
              "      <td>no</td>\n",
              "      <td>no</td>\n",
              "      <td>no</td>\n",
              "      <td>cellular</td>\n",
              "      <td>jun</td>\n",
              "      <td>tue</td>\n",
              "      <td>368</td>\n",
              "      <td>2</td>\n",
              "      <td>999</td>\n",
              "      <td>0</td>\n",
              "      <td>nonexistent</td>\n",
              "      <td>no</td>\n",
              "    </tr>\n",
              "  </tbody>\n",
              "</table>\n",
              "</div>"
            ],
            "text/plain": [
              "   age           job   marital  ... previous     poutcome    y\n",
              "0   49   blue-collar   married  ...        0  nonexistent   no\n",
              "1   37  entrepreneur   married  ...        1      failure   no\n",
              "2   78       retired   married  ...        0  nonexistent  yes\n",
              "3   36        admin.   married  ...        0  nonexistent   no\n",
              "4   59       retired  divorced  ...        0  nonexistent   no\n",
              "\n",
              "[5 rows x 16 columns]"
            ]
          },
          "metadata": {}
        },
        {
          "output_type": "display_data",
          "data": {
            "text/html": [
              "<div>\n",
              "<style scoped>\n",
              "    .dataframe tbody tr th:only-of-type {\n",
              "        vertical-align: middle;\n",
              "    }\n",
              "\n",
              "    .dataframe tbody tr th {\n",
              "        vertical-align: top;\n",
              "    }\n",
              "\n",
              "    .dataframe thead th {\n",
              "        text-align: right;\n",
              "    }\n",
              "</style>\n",
              "<table border=\"1\" class=\"dataframe\">\n",
              "  <thead>\n",
              "    <tr style=\"text-align: right;\">\n",
              "      <th></th>\n",
              "      <th>age</th>\n",
              "      <th>duration</th>\n",
              "      <th>campaign</th>\n",
              "      <th>pdays</th>\n",
              "      <th>previous</th>\n",
              "    </tr>\n",
              "  </thead>\n",
              "  <tbody>\n",
              "    <tr>\n",
              "      <th>count</th>\n",
              "      <td>32950.000000</td>\n",
              "      <td>32950.000000</td>\n",
              "      <td>32950.000000</td>\n",
              "      <td>32950.000000</td>\n",
              "      <td>32950.000000</td>\n",
              "    </tr>\n",
              "    <tr>\n",
              "      <th>mean</th>\n",
              "      <td>40.014112</td>\n",
              "      <td>258.127466</td>\n",
              "      <td>2.560607</td>\n",
              "      <td>962.052413</td>\n",
              "      <td>0.174719</td>\n",
              "    </tr>\n",
              "    <tr>\n",
              "      <th>std</th>\n",
              "      <td>10.403636</td>\n",
              "      <td>258.975917</td>\n",
              "      <td>2.752326</td>\n",
              "      <td>187.951096</td>\n",
              "      <td>0.499025</td>\n",
              "    </tr>\n",
              "    <tr>\n",
              "      <th>min</th>\n",
              "      <td>17.000000</td>\n",
              "      <td>0.000000</td>\n",
              "      <td>1.000000</td>\n",
              "      <td>0.000000</td>\n",
              "      <td>0.000000</td>\n",
              "    </tr>\n",
              "    <tr>\n",
              "      <th>25%</th>\n",
              "      <td>32.000000</td>\n",
              "      <td>103.000000</td>\n",
              "      <td>1.000000</td>\n",
              "      <td>999.000000</td>\n",
              "      <td>0.000000</td>\n",
              "    </tr>\n",
              "    <tr>\n",
              "      <th>50%</th>\n",
              "      <td>38.000000</td>\n",
              "      <td>180.000000</td>\n",
              "      <td>2.000000</td>\n",
              "      <td>999.000000</td>\n",
              "      <td>0.000000</td>\n",
              "    </tr>\n",
              "    <tr>\n",
              "      <th>75%</th>\n",
              "      <td>47.000000</td>\n",
              "      <td>319.000000</td>\n",
              "      <td>3.000000</td>\n",
              "      <td>999.000000</td>\n",
              "      <td>0.000000</td>\n",
              "    </tr>\n",
              "    <tr>\n",
              "      <th>max</th>\n",
              "      <td>98.000000</td>\n",
              "      <td>4918.000000</td>\n",
              "      <td>56.000000</td>\n",
              "      <td>999.000000</td>\n",
              "      <td>7.000000</td>\n",
              "    </tr>\n",
              "  </tbody>\n",
              "</table>\n",
              "</div>"
            ],
            "text/plain": [
              "                age      duration      campaign         pdays      previous\n",
              "count  32950.000000  32950.000000  32950.000000  32950.000000  32950.000000\n",
              "mean      40.014112    258.127466      2.560607    962.052413      0.174719\n",
              "std       10.403636    258.975917      2.752326    187.951096      0.499025\n",
              "min       17.000000      0.000000      1.000000      0.000000      0.000000\n",
              "25%       32.000000    103.000000      1.000000    999.000000      0.000000\n",
              "50%       38.000000    180.000000      2.000000    999.000000      0.000000\n",
              "75%       47.000000    319.000000      3.000000    999.000000      0.000000\n",
              "max       98.000000   4918.000000     56.000000    999.000000      7.000000"
            ]
          },
          "metadata": {}
        },
        {
          "output_type": "display_data",
          "data": {
            "text/plain": [
              "object    11\n",
              "int64      5\n",
              "dtype: int64"
            ]
          },
          "metadata": {}
        },
        {
          "output_type": "execute_result",
          "data": {
            "text/plain": [
              "age            0\n",
              "job            0\n",
              "marital        0\n",
              "education      0\n",
              "default        0\n",
              "housing        0\n",
              "loan           0\n",
              "contact        0\n",
              "month          0\n",
              "day_of_week    0\n",
              "duration       0\n",
              "campaign       0\n",
              "pdays          0\n",
              "previous       0\n",
              "poutcome       0\n",
              "y              0\n",
              "dtype: int64"
            ]
          },
          "metadata": {},
          "execution_count": 2
        }
      ]
    },
    {
      "cell_type": "code",
      "metadata": {
        "colab": {
          "base_uri": "https://localhost:8080/"
        },
        "id": "pancwYa8tmCR",
        "outputId": "8234ddd7-7d09-48d9-975c-75cfcfb9416a"
      },
      "source": [
        "#to find the categorical colmuns\n",
        "#for i in df.columns:\n",
        "#  if df[i].dtypes==object:\n",
        "#    print(df[i].unique())\n",
        "for i in ('job','marital','education', 'default','housing','loan','contact','month','day_of_week','previous','poutcome','y'):\n",
        "  print(f'**{i} cathegories:')\n",
        "  print(df[i].unique())"
      ],
      "execution_count": null,
      "outputs": [
        {
          "output_type": "stream",
          "name": "stdout",
          "text": [
            "**job cathegories:\n",
            "['blue-collar' 'entrepreneur' 'retired' 'admin.' 'student' 'services'\n",
            " 'technician' 'self-employed' 'management' 'unemployed' 'unknown'\n",
            " 'housemaid']\n",
            "**marital cathegories:\n",
            "['married' 'divorced' 'single' 'unknown']\n",
            "**education cathegories:\n",
            "['basic.9y' 'university.degree' 'basic.4y' 'high.school'\n",
            " 'professional.course' 'unknown' 'basic.6y' 'illiterate']\n",
            "**default cathegories:\n",
            "['unknown' 'no' 'yes']\n",
            "**housing cathegories:\n",
            "['no' 'yes' 'unknown']\n",
            "**loan cathegories:\n",
            "['no' 'yes' 'unknown']\n",
            "**contact cathegories:\n",
            "['cellular' 'telephone']\n",
            "**month cathegories:\n",
            "['nov' 'jul' 'may' 'jun' 'aug' 'mar' 'oct' 'apr' 'sep' 'dec']\n",
            "**day_of_week cathegories:\n",
            "['wed' 'mon' 'tue' 'fri' 'thu']\n",
            "**previous cathegories:\n",
            "[0 1 3 4 2 6 5 7]\n",
            "**poutcome cathegories:\n",
            "['nonexistent' 'failure' 'success']\n",
            "**y cathegories:\n",
            "['no' 'yes']\n"
          ]
        }
      ]
    },
    {
      "cell_type": "code",
      "metadata": {
        "colab": {
          "base_uri": "https://localhost:8080/"
        },
        "id": "KkESo60H1dPL",
        "outputId": "1a8519a5-8655-4c3f-b0bc-77edaa5c9aca"
      },
      "source": [
        "# finding the number of unknowns in dataset\n",
        "for i in ('job','marital','education', 'default','housing','loan'):\n",
        "  print(df[i].value_counts())"
      ],
      "execution_count": null,
      "outputs": [
        {
          "output_type": "stream",
          "name": "stdout",
          "text": [
            "admin.           8314\n",
            "blue-collar      7441\n",
            "technician       5400\n",
            "services         3196\n",
            "management       2345\n",
            "retired          1366\n",
            "entrepreneur     1160\n",
            "self-employed    1099\n",
            "housemaid         855\n",
            "unemployed        798\n",
            "student           711\n",
            "unknown           265\n",
            "Name: job, dtype: int64\n",
            "married     19953\n",
            "single       9257\n",
            "divorced     3675\n",
            "unknown        65\n",
            "Name: marital, dtype: int64\n",
            "university.degree      9736\n",
            "high.school            7596\n",
            "basic.9y               4826\n",
            "professional.course    4192\n",
            "basic.4y               3322\n",
            "basic.6y               1865\n",
            "unknown                1397\n",
            "illiterate               16\n",
            "Name: education, dtype: int64\n",
            "no         26007\n",
            "unknown     6940\n",
            "yes            3\n",
            "Name: default, dtype: int64\n",
            "yes        17254\n",
            "no         14900\n",
            "unknown      796\n",
            "Name: housing, dtype: int64\n",
            "no         27131\n",
            "yes         5023\n",
            "unknown      796\n",
            "Name: loan, dtype: int64\n"
          ]
        }
      ]
    },
    {
      "cell_type": "code",
      "metadata": {
        "colab": {
          "base_uri": "https://localhost:8080/"
        },
        "id": "r3fxmazI-W6p",
        "outputId": "29f55f4b-348a-4ebb-d9d0-9d85487d64d2"
      },
      "source": [
        "#Replace unknown values with nan and drop the nan values\n",
        "df=df.applymap(lambda x: np.nan if x == 'unknown' else x)\n",
        "df.dropna(inplace=True)\n",
        "#Checking the nan values\n",
        "for i in ('job','marital','education', 'default','housing','loan'):\n",
        "  print(df[i].value_counts())\n"
      ],
      "execution_count": null,
      "outputs": [
        {
          "output_type": "stream",
          "name": "stdout",
          "text": [
            "admin.           6960\n",
            "blue-collar      4535\n",
            "technician       4346\n",
            "services         2294\n",
            "management       1869\n",
            "retired           974\n",
            "entrepreneur      854\n",
            "self-employed     842\n",
            "unemployed        581\n",
            "housemaid         558\n",
            "student           492\n",
            "Name: job, dtype: int64\n",
            "married     13952\n",
            "single       7546\n",
            "divorced     2807\n",
            "Name: marital, dtype: int64\n",
            "university.degree      8319\n",
            "high.school            6127\n",
            "professional.course    3450\n",
            "basic.9y               3380\n",
            "basic.4y               1888\n",
            "basic.6y               1130\n",
            "illiterate               11\n",
            "Name: education, dtype: int64\n",
            "no     24302\n",
            "yes        3\n",
            "Name: default, dtype: int64\n",
            "yes    13174\n",
            "no     11131\n",
            "Name: housing, dtype: int64\n",
            "no     20491\n",
            "yes     3814\n",
            "Name: loan, dtype: int64\n"
          ]
        }
      ]
    },
    {
      "cell_type": "code",
      "metadata": {
        "colab": {
          "base_uri": "https://localhost:8080/",
          "height": 477
        },
        "id": "_7wOyLxGGcP_",
        "outputId": "4528e6b8-22d6-4b46-9d3f-d347f63be0b0"
      },
      "source": [
        "num_vars= ['age', 'duration', 'campaign', 'pdays']\n",
        "df.hist(num_vars, figsize = (10,6))"
      ],
      "execution_count": null,
      "outputs": [
        {
          "output_type": "execute_result",
          "data": {
            "text/plain": [
              "array([[<matplotlib.axes._subplots.AxesSubplot object at 0x7f75100201d0>,\n",
              "        <matplotlib.axes._subplots.AxesSubplot object at 0x7f75100204d0>],\n",
              "       [<matplotlib.axes._subplots.AxesSubplot object at 0x7f750fff2b10>,\n",
              "        <matplotlib.axes._subplots.AxesSubplot object at 0x7f750ffabfd0>]],\n",
              "      dtype=object)"
            ]
          },
          "metadata": {},
          "execution_count": 6
        },
        {
          "output_type": "display_data",
          "data": {
            "image/png": "[encoded data removed]",
            "text/plain": [
              "<Figure size 720x432 with 4 Axes>"
            ]
          },
          "metadata": {
            "needs_background": "light"
          }
        }
      ]
    },
    {
      "cell_type": "code",
      "metadata": {
        "colab": {
          "base_uri": "https://localhost:8080/",
          "height": 265
        },
        "id": "1KAEKxodIH7I",
        "outputId": "1aeaa781-80e9-4577-b7b0-952ce1952189"
      },
      "source": [
        "#Define the percentage of man and woman\n",
        "df['y'].value_counts().plot.pie(autopct=\"%2.2f%%\")\n"
      ],
      "execution_count": null,
      "outputs": [
        {
          "output_type": "execute_result",
          "data": {
            "text/plain": [
              "<matplotlib.axes._subplots.AxesSubplot at 0x7f750fe1c590>"
            ]
          },
          "metadata": {},
          "execution_count": 7
        },
        {
          "output_type": "display_data",
          "data": {
            "image/png": "[encoded data removed]",
            "text/plain": [
              "<Figure size 432x288 with 1 Axes>"
            ]
          },
          "metadata": {}
        }
      ]
    },
    {
      "cell_type": "code",
      "metadata": {
        "colab": {
          "base_uri": "https://localhost:8080/",
          "height": 613
        },
        "id": "ljTjnaaoI8NM",
        "outputId": "8f3ae922-0467-42a4-d942-4cc8fd6600be"
      },
      "source": [
        "#Correlation Matrix Plots show\n",
        "plt.figure(figsize=(20,10))\n",
        "df_co = df[num_vars].corr()\n",
        "sns.heatmap(df_co,cbar = True,  square = True, annot = True, fmt= '.1f',xticklabels= True, yticklabels= True,cmap='gist_earth', linewidths=.5)\n"
      ],
      "execution_count": null,
      "outputs": [
        {
          "output_type": "execute_result",
          "data": {
            "text/plain": [
              "<matplotlib.axes._subplots.AxesSubplot at 0x7f750fe1c850>"
            ]
          },
          "metadata": {},
          "execution_count": 8
        },
        {
          "output_type": "display_data",
          "data": {
            "image/png": "[encoded data removed]",
            "text/plain": [
              "<Figure size 1440x720 with 2 Axes>"
            ]
          },
          "metadata": {
            "needs_background": "light"
          }
        }
      ]
    },
    {
      "cell_type": "code",
      "metadata": {
        "colab": {
          "base_uri": "https://localhost:8080/",
          "height": 443
        },
        "id": "AyztYYyZZPwM",
        "outputId": "b4079f08-387d-46d6-d437-7c232022b68b"
      },
      "source": [
        "#Scaling\n",
        "sc = StandardScaler()\n",
        "x=np.array(df['age'])\n",
        "x=np.reshape(x,(1,len(x)))\n",
        "cont_cols=['age','duration','pdays','campaign']\n",
        "for i in cont_cols:\n",
        "  x=np.array(df[i])\n",
        "  x=np.reshape(x,(len(x),1))\n",
        "  df[i]=sc.fit_transform(x)\n",
        "df"
      ],
      "execution_count": null,
      "outputs": [
        {
          "output_type": "execute_result",
          "data": {
            "text/html": [
              "<div>\n",
              "<style scoped>\n",
              "    .dataframe tbody tr th:only-of-type {\n",
              "        vertical-align: middle;\n",
              "    }\n",
              "\n",
              "    .dataframe tbody tr th {\n",
              "        vertical-align: top;\n",
              "    }\n",
              "\n",
              "    .dataframe thead th {\n",
              "        text-align: right;\n",
              "    }\n",
              "</style>\n",
              "<table border=\"1\" class=\"dataframe\">\n",
              "  <thead>\n",
              "    <tr style=\"text-align: right;\">\n",
              "      <th></th>\n",
              "      <th>age</th>\n",
              "      <th>job</th>\n",
              "      <th>marital</th>\n",
              "      <th>education</th>\n",
              "      <th>default</th>\n",
              "      <th>housing</th>\n",
              "      <th>loan</th>\n",
              "      <th>contact</th>\n",
              "      <th>month</th>\n",
              "      <th>day_of_week</th>\n",
              "      <th>duration</th>\n",
              "      <th>campaign</th>\n",
              "      <th>pdays</th>\n",
              "      <th>previous</th>\n",
              "      <th>poutcome</th>\n",
              "      <th>y</th>\n",
              "    </tr>\n",
              "  </thead>\n",
              "  <tbody>\n",
              "    <tr>\n",
              "      <th>1</th>\n",
              "      <td>-0.194125</td>\n",
              "      <td>entrepreneur</td>\n",
              "      <td>married</td>\n",
              "      <td>university.degree</td>\n",
              "      <td>no</td>\n",
              "      <td>no</td>\n",
              "      <td>no</td>\n",
              "      <td>telephone</td>\n",
              "      <td>nov</td>\n",
              "      <td>wed</td>\n",
              "      <td>-0.219448</td>\n",
              "      <td>-0.189148</td>\n",
              "      <td>0.213543</td>\n",
              "      <td>1</td>\n",
              "      <td>failure</td>\n",
              "      <td>no</td>\n",
              "    </tr>\n",
              "    <tr>\n",
              "      <th>2</th>\n",
              "      <td>3.776365</td>\n",
              "      <td>retired</td>\n",
              "      <td>married</td>\n",
              "      <td>basic.4y</td>\n",
              "      <td>no</td>\n",
              "      <td>no</td>\n",
              "      <td>no</td>\n",
              "      <td>cellular</td>\n",
              "      <td>jul</td>\n",
              "      <td>mon</td>\n",
              "      <td>3.412624</td>\n",
              "      <td>-0.560611</td>\n",
              "      <td>0.213543</td>\n",
              "      <td>0</td>\n",
              "      <td>nonexistent</td>\n",
              "      <td>yes</td>\n",
              "    </tr>\n",
              "    <tr>\n",
              "      <th>3</th>\n",
              "      <td>-0.290966</td>\n",
              "      <td>admin.</td>\n",
              "      <td>married</td>\n",
              "      <td>university.degree</td>\n",
              "      <td>no</td>\n",
              "      <td>yes</td>\n",
              "      <td>no</td>\n",
              "      <td>telephone</td>\n",
              "      <td>may</td>\n",
              "      <td>mon</td>\n",
              "      <td>-0.534279</td>\n",
              "      <td>-0.189148</td>\n",
              "      <td>0.213543</td>\n",
              "      <td>0</td>\n",
              "      <td>nonexistent</td>\n",
              "      <td>no</td>\n",
              "    </tr>\n",
              "    <tr>\n",
              "      <th>4</th>\n",
              "      <td>1.936382</td>\n",
              "      <td>retired</td>\n",
              "      <td>divorced</td>\n",
              "      <td>university.degree</td>\n",
              "      <td>no</td>\n",
              "      <td>no</td>\n",
              "      <td>no</td>\n",
              "      <td>cellular</td>\n",
              "      <td>jun</td>\n",
              "      <td>tue</td>\n",
              "      <td>0.417892</td>\n",
              "      <td>-0.189148</td>\n",
              "      <td>0.213543</td>\n",
              "      <td>0</td>\n",
              "      <td>nonexistent</td>\n",
              "      <td>no</td>\n",
              "    </tr>\n",
              "    <tr>\n",
              "      <th>5</th>\n",
              "      <td>-0.968855</td>\n",
              "      <td>admin.</td>\n",
              "      <td>single</td>\n",
              "      <td>university.degree</td>\n",
              "      <td>no</td>\n",
              "      <td>no</td>\n",
              "      <td>no</td>\n",
              "      <td>cellular</td>\n",
              "      <td>aug</td>\n",
              "      <td>wed</td>\n",
              "      <td>-0.012121</td>\n",
              "      <td>-0.189148</td>\n",
              "      <td>0.213543</td>\n",
              "      <td>0</td>\n",
              "      <td>nonexistent</td>\n",
              "      <td>no</td>\n",
              "    </tr>\n",
              "    <tr>\n",
              "      <th>...</th>\n",
              "      <td>...</td>\n",
              "      <td>...</td>\n",
              "      <td>...</td>\n",
              "      <td>...</td>\n",
              "      <td>...</td>\n",
              "      <td>...</td>\n",
              "      <td>...</td>\n",
              "      <td>...</td>\n",
              "      <td>...</td>\n",
              "      <td>...</td>\n",
              "      <td>...</td>\n",
              "      <td>...</td>\n",
              "      <td>...</td>\n",
              "      <td>...</td>\n",
              "      <td>...</td>\n",
              "      <td>...</td>\n",
              "    </tr>\n",
              "    <tr>\n",
              "      <th>32945</th>\n",
              "      <td>-1.065696</td>\n",
              "      <td>services</td>\n",
              "      <td>single</td>\n",
              "      <td>high.school</td>\n",
              "      <td>no</td>\n",
              "      <td>yes</td>\n",
              "      <td>no</td>\n",
              "      <td>cellular</td>\n",
              "      <td>jul</td>\n",
              "      <td>tue</td>\n",
              "      <td>-0.257842</td>\n",
              "      <td>-0.560611</td>\n",
              "      <td>0.213543</td>\n",
              "      <td>0</td>\n",
              "      <td>nonexistent</td>\n",
              "      <td>no</td>\n",
              "    </tr>\n",
              "    <tr>\n",
              "      <th>32946</th>\n",
              "      <td>1.258494</td>\n",
              "      <td>technician</td>\n",
              "      <td>married</td>\n",
              "      <td>professional.course</td>\n",
              "      <td>no</td>\n",
              "      <td>yes</td>\n",
              "      <td>no</td>\n",
              "      <td>cellular</td>\n",
              "      <td>nov</td>\n",
              "      <td>fri</td>\n",
              "      <td>-0.749286</td>\n",
              "      <td>-0.560611</td>\n",
              "      <td>0.213543</td>\n",
              "      <td>1</td>\n",
              "      <td>failure</td>\n",
              "      <td>no</td>\n",
              "    </tr>\n",
              "    <tr>\n",
              "      <th>32947</th>\n",
              "      <td>1.452176</td>\n",
              "      <td>admin.</td>\n",
              "      <td>married</td>\n",
              "      <td>basic.9y</td>\n",
              "      <td>no</td>\n",
              "      <td>no</td>\n",
              "      <td>yes</td>\n",
              "      <td>cellular</td>\n",
              "      <td>jul</td>\n",
              "      <td>mon</td>\n",
              "      <td>-0.492046</td>\n",
              "      <td>0.553779</td>\n",
              "      <td>0.213543</td>\n",
              "      <td>0</td>\n",
              "      <td>nonexistent</td>\n",
              "      <td>no</td>\n",
              "    </tr>\n",
              "    <tr>\n",
              "      <th>32948</th>\n",
              "      <td>-0.968855</td>\n",
              "      <td>admin.</td>\n",
              "      <td>married</td>\n",
              "      <td>university.degree</td>\n",
              "      <td>no</td>\n",
              "      <td>no</td>\n",
              "      <td>no</td>\n",
              "      <td>telephone</td>\n",
              "      <td>may</td>\n",
              "      <td>fri</td>\n",
              "      <td>-0.361506</td>\n",
              "      <td>-0.560611</td>\n",
              "      <td>0.213543</td>\n",
              "      <td>0</td>\n",
              "      <td>nonexistent</td>\n",
              "      <td>no</td>\n",
              "    </tr>\n",
              "    <tr>\n",
              "      <th>32949</th>\n",
              "      <td>-0.387807</td>\n",
              "      <td>admin.</td>\n",
              "      <td>married</td>\n",
              "      <td>university.degree</td>\n",
              "      <td>no</td>\n",
              "      <td>no</td>\n",
              "      <td>yes</td>\n",
              "      <td>telephone</td>\n",
              "      <td>jun</td>\n",
              "      <td>tue</td>\n",
              "      <td>1.093627</td>\n",
              "      <td>0.182316</td>\n",
              "      <td>0.213543</td>\n",
              "      <td>0</td>\n",
              "      <td>nonexistent</td>\n",
              "      <td>no</td>\n",
              "    </tr>\n",
              "  </tbody>\n",
              "</table>\n",
              "<p>24305 rows × 16 columns</p>\n",
              "</div>"
            ],
            "text/plain": [
              "            age           job   marital  ... previous     poutcome    y\n",
              "1     -0.194125  entrepreneur   married  ...        1      failure   no\n",
              "2      3.776365       retired   married  ...        0  nonexistent  yes\n",
              "3     -0.290966        admin.   married  ...        0  nonexistent   no\n",
              "4      1.936382       retired  divorced  ...        0  nonexistent   no\n",
              "5     -0.968855        admin.    single  ...        0  nonexistent   no\n",
              "...         ...           ...       ...  ...      ...          ...  ...\n",
              "32945 -1.065696      services    single  ...        0  nonexistent   no\n",
              "32946  1.258494    technician   married  ...        1      failure   no\n",
              "32947  1.452176        admin.   married  ...        0  nonexistent   no\n",
              "32948 -0.968855        admin.   married  ...        0  nonexistent   no\n",
              "32949 -0.387807        admin.   married  ...        0  nonexistent   no\n",
              "\n",
              "[24305 rows x 16 columns]"
            ]
          },
          "metadata": {},
          "execution_count": 9
        }
      ]
    },
    {
      "cell_type": "code",
      "metadata": {
        "colab": {
          "base_uri": "https://localhost:8080/"
        },
        "id": "fDfPFmOlMq9M",
        "outputId": "bf4c6dc0-a9e1-4294-9781-0db62567aaaa"
      },
      "source": [
        "#Encoding\n",
        "le=LabelEncoder()\n",
        "booleans=['default','housing','loan','contact', 'y']\n",
        "for i in booleans:\n",
        "  df[i]=le.fit_transform(df[i])\n",
        "x=df.iloc[ : , :-1].values\n",
        "y=df.iloc[ : ,-1].values\n",
        "ct=ColumnTransformer(transformers=[(\"encoder\", OneHotEncoder(), [1,2,3,8,9,14])], remainder =\"passthrough\")\n",
        "x=np.array(ct.fit_transform(x))\n",
        "x\n"
      ],
      "execution_count": null,
      "outputs": [
        {
          "output_type": "execute_result",
          "data": {
            "text/plain": [
              "array([[0.0, 0.0, 1.0, ..., -0.1891475787206562, 0.21354268065456639, 1],\n",
              "       [0.0, 0.0, 0.0, ..., -0.5606110484043626, 0.21354268065456639, 0],\n",
              "       [1.0, 0.0, 0.0, ..., -0.1891475787206562, 0.21354268065456639, 0],\n",
              "       ...,\n",
              "       [1.0, 0.0, 0.0, ..., 0.5537793606467566, 0.21354268065456639, 0],\n",
              "       [1.0, 0.0, 0.0, ..., -0.5606110484043626, 0.21354268065456639, 0],\n",
              "       [1.0, 0.0, 0.0, ..., 0.18231589096305018, 0.21354268065456639, 0]],\n",
              "      dtype=object)"
            ]
          },
          "metadata": {},
          "execution_count": 10
        }
      ]
    },
    {
      "cell_type": "code",
      "metadata": {
        "id": "pLskZASoLVhe"
      },
      "source": [
        "#spliting\n",
        "x_train, x_test, y_train, y_test= train_test_split(x,y, test_size=0.2, random_state=0 )\n"
      ],
      "execution_count": null,
      "outputs": []
    },
    {
      "cell_type": "code",
      "metadata": {
        "colab": {
          "base_uri": "https://localhost:8080/"
        },
        "id": "O9zvDMrjLteM",
        "outputId": "2cd431dd-3901-4f53-b299-db170fcbbbc4"
      },
      "source": [
        "#Balancing\n",
        "adasyn = ADASYN()\n",
        "xo_train, yo_train = adasyn.fit_resample(x_train, y_train)\n"
      ],
      "execution_count": null,
      "outputs": [
        {
          "output_type": "stream",
          "name": "stderr",
          "text": [
            "/usr/local/lib/python3.7/dist-packages/sklearn/utils/deprecation.py:87: FutureWarning: Function safe_indexing is deprecated; safe_indexing is deprecated in version 0.22 and will be removed in version 0.24.\n",
            "  warnings.warn(msg, category=FutureWarning)\n"
          ]
        }
      ]
    },
    {
      "cell_type": "code",
      "metadata": {
        "colab": {
          "base_uri": "https://localhost:8080/"
        },
        "id": "BmacLPduXdG9",
        "outputId": "dcdc9b04-8ca2-476e-c756-32609e003c3c"
      },
      "source": [
        "#Training SVM\n",
        "classifierSVM=SVC(kernel=\"linear\", random_state=0, probability=True)\n",
        "classifierSVM.fit(xo_train, yo_train)\n",
        "y_pred = classifierSVM.predict(x_test)\n",
        "print(np.concatenate((y_pred.reshape(len(y_pred),1), y_test.reshape(len(y_test),1)),1))"
      ],
      "execution_count": null,
      "outputs": [
        {
          "output_type": "stream",
          "name": "stdout",
          "text": [
            "[[0 0]\n",
            " [0 1]\n",
            " [0 0]\n",
            " ...\n",
            " [0 0]\n",
            " [1 0]\n",
            " [0 1]]\n"
          ]
        }
      ]
    },
    {
      "cell_type": "code",
      "metadata": {
        "colab": {
          "base_uri": "https://localhost:8080/"
        },
        "id": "3s5wB8c7j3Ra",
        "outputId": "98da4e7c-3305-4905-fc1f-d4f0ee5e457a"
      },
      "source": [
        "#Training Naive bayes\n",
        "classifierNB=GaussianNB()\n",
        "classifierNB.fit(xo_train, yo_train)\n",
        "y_pred1 = classifierNB.predict(x_test)\n",
        "print(np.concatenate((y_pred1.reshape(len(y_pred1),1), y_test.reshape(len(y_test),1)),1))"
      ],
      "execution_count": null,
      "outputs": [
        {
          "output_type": "stream",
          "name": "stdout",
          "text": [
            "[[0 0]\n",
            " [0 1]\n",
            " [0 0]\n",
            " ...\n",
            " [0 0]\n",
            " [1 0]\n",
            " [0 1]]\n"
          ]
        }
      ]
    },
    {
      "cell_type": "code",
      "metadata": {
        "colab": {
          "base_uri": "https://localhost:8080/"
        },
        "id": "8roeVc84kSh4",
        "outputId": "c99ab86f-48c9-4f9d-e447-05897cca3ba6"
      },
      "source": [
        "#Confusion Matrix\n",
        "cmSVM=confusion_matrix(y_test, y_pred)\n",
        "print(cmSVM)\n",
        "print(accuracy_score(y_test, y_pred))\n",
        "cmNB=confusion_matrix(y_test, y_pred1)\n",
        "print(cmNB)\n",
        "print(accuracy_score(y_test, y_pred1))"
      ],
      "execution_count": null,
      "outputs": [
        {
          "output_type": "stream",
          "name": "stdout",
          "text": [
            "[[3485  758]\n",
            " [  81  537]]\n",
            "0.8274017691832957\n",
            "[[2832 1411]\n",
            " [ 134  484]]\n",
            "0.6821641637523144\n"
          ]
        }
      ]
    },
    {
      "cell_type": "code",
      "metadata": {
        "colab": {
          "base_uri": "https://localhost:8080/",
          "height": 295
        },
        "id": "ESGEwE46krsR",
        "outputId": "ad5ed997-f6c7-4bf5-ee67-ccbaf277db63"
      },
      "source": [
        "#ROC Curve\n",
        "logit_roc_auc = roc_auc_score(y_test, y_pred)\n",
        "fpr, tpr, thresholds = roc_curve(y_test, classifierSVM.predict_proba(x_test)[:,1])\n",
        "plt.figure()\n",
        "plt.plot(fpr, tpr, label='SVM (area = %0.2f)' % logit_roc_auc)\n",
        "plt.plot([0, 1], [0, 1],'r--')\n",
        "plt.xlim([0.0, 1.0])\n",
        "plt.ylim([0.0, 1.05])\n",
        "plt.xlabel('False Positive Rate')\n",
        "plt.ylabel('True Positive Rate')\n",
        "plt.title('SVM Model')\n",
        "plt.legend(loc=\"lower right\")\n",
        "plt.savefig('Log_ROC')\n",
        "plt.show()"
      ],
      "execution_count": null,
      "outputs": [
        {
          "output_type": "display_data",
          "data": {
            "image/png": "[encoded data removed]",
            "text/plain": [
              "<Figure size 432x288 with 1 Axes>"
            ]
          },
          "metadata": {
            "needs_background": "light"
          }
        }
      ]
    },
    {
      "cell_type": "code",
      "metadata": {
        "colab": {
          "base_uri": "https://localhost:8080/",
          "height": 295
        },
        "id": "rtwr2BRCl_fK",
        "outputId": "8924933b-128c-411c-9eb9-3f36fca21279"
      },
      "source": [
        "logit_roc_auc1 = roc_auc_score(y_test, y_pred1)\n",
        "fpr, tpr, thresholds = roc_curve(y_test, classifierNB.predict_proba(x_test)[:,1])\n",
        "plt.figure()\n",
        "plt.plot(fpr, tpr, label='Naive Bayes (area = %0.2f)' % logit_roc_auc1)\n",
        "plt.plot([0, 1], [0, 1],'r--')\n",
        "plt.xlim([0.0, 1.0])\n",
        "plt.ylim([0.0, 1.05])\n",
        "plt.xlabel('False Positive Rate')\n",
        "plt.ylabel('True Positive Rate')\n",
        "plt.title('Naive Bayes Model')\n",
        "plt.legend(loc=\"lower right\")\n",
        "plt.savefig('Log_ROC')\n",
        "plt.show()"
      ],
      "execution_count": null,
      "outputs": [
        {
          "output_type": "display_data",
          "data": {
            "image/png": "[encoded data removed]",
            "text/plain": [
              "<Figure size 432x288 with 1 Axes>"
            ]
          },
          "metadata": {
            "needs_background": "light"
          }
        }
      ]
    }
  ]
}
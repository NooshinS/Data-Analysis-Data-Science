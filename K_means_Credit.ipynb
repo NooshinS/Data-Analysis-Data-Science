{
  "nbformat": 4,
  "nbformat_minor": 0,
  "metadata": {
    "colab": {
      "name": "K-means-Credit.ipynb",
      "provenance": [],
      "authorship_tag": "ABX9TyMimgs2zCa+cBepc6uoFeIQ",
      "include_colab_link": true
    },
    "kernelspec": {
      "name": "python3",
      "display_name": "Python 3"
    },
    "language_info": {
      "name": "python"
    }
  },
  "cells": [
    {
      "cell_type": "markdown",
      "metadata": {
        "id": "view-in-github",
        "colab_type": "text"
      },
      "source": [
        "<a href=\"https://colab.research.google.com/github/NooshinS/Machine-Learning/blob/main/K_means_Credit.ipynb\" target=\"_parent\"><img src=\"https://colab.research.google.com/assets/colab-badge.svg\" alt=\"Open In Colab\"/></a>"
      ]
    },
    {
      "cell_type": "markdown",
      "metadata": {
        "id": "gK6zERPe1T_I"
      },
      "source": [
        "Import libraries"
      ]
    },
    {
      "cell_type": "code",
      "metadata": {
        "id": "MNsPNXVI1XYQ"
      },
      "source": [
        "import numpy as np\n",
        "import pandas as pd\n",
        "import matplotlib.pyplot as plt\n",
        "from sklearn.cluster import KMeans\n",
        "import scipy.cluster.hierarchy as sch\n",
        "from sklearn.preprocessing import StandardScaler\n",
        "import scipy.cluster.hierarchy as sch"
      ],
      "execution_count": null,
      "outputs": []
    },
    {
      "cell_type": "markdown",
      "metadata": {
        "id": "hU5nNjcd1b4o"
      },
      "source": [
        "Preparation Dataset"
      ]
    },
    {
      "cell_type": "code",
      "metadata": {
        "colab": {
          "base_uri": "https://localhost:8080/",
          "height": 416
        },
        "id": "yFU91R3k1gDI",
        "outputId": "8c1308d9-98d0-410a-810b-401a6abf48f2"
      },
      "source": [
        "dataset=pd.read_csv('K-means.csv')\n",
        "dataset.info\n",
        "display(dataset.dtypes.value_counts())\n",
        "dataset.isnull().sum()\n"
      ],
      "execution_count": null,
      "outputs": [
        {
          "output_type": "display_data",
          "data": {
            "text/plain": [
              "float64    14\n",
              "int64       3\n",
              "object      1\n",
              "dtype: int64"
            ]
          },
          "metadata": {}
        },
        {
          "output_type": "execute_result",
          "data": {
            "text/plain": [
              "CUST_ID                               0\n",
              "BALANCE                               0\n",
              "BALANCE_FREQUENCY                     0\n",
              "PURCHASES                             0\n",
              "ONEOFF_PURCHASES                      0\n",
              "INSTALLMENTS_PURCHASES                0\n",
              "CASH_ADVANCE                          0\n",
              "PURCHASES_FREQUENCY                   0\n",
              "ONEOFF_PURCHASES_FREQUENCY            0\n",
              "PURCHASES_INSTALLMENTS_FREQUENCY      0\n",
              "CASH_ADVANCE_FREQUENCY                0\n",
              "CASH_ADVANCE_TRX                      0\n",
              "PURCHASES_TRX                         0\n",
              "CREDIT_LIMIT                          1\n",
              "PAYMENTS                              0\n",
              "MINIMUM_PAYMENTS                    313\n",
              "PRC_FULL_PAYMENT                      0\n",
              "TENURE                                0\n",
              "dtype: int64"
            ]
          },
          "metadata": {},
          "execution_count": 22
        }
      ]
    },
    {
      "cell_type": "code",
      "metadata": {
        "colab": {
          "base_uri": "https://localhost:8080/"
        },
        "id": "KK2fNZXz8pyI",
        "outputId": "c643d033-4194-4e07-9441-9de135312644"
      },
      "source": [
        "dataset.drop(columns=['MINIMUM_PAYMENTS'], inplace=True )\n",
        "dataset\n",
        "dataset=dataset.fillna(0)\n",
        "dataset.isnull().sum()"
      ],
      "execution_count": null,
      "outputs": [
        {
          "output_type": "execute_result",
          "data": {
            "text/plain": [
              "CUST_ID                             0\n",
              "BALANCE                             0\n",
              "BALANCE_FREQUENCY                   0\n",
              "PURCHASES                           0\n",
              "ONEOFF_PURCHASES                    0\n",
              "INSTALLMENTS_PURCHASES              0\n",
              "CASH_ADVANCE                        0\n",
              "PURCHASES_FREQUENCY                 0\n",
              "ONEOFF_PURCHASES_FREQUENCY          0\n",
              "PURCHASES_INSTALLMENTS_FREQUENCY    0\n",
              "CASH_ADVANCE_FREQUENCY              0\n",
              "CASH_ADVANCE_TRX                    0\n",
              "PURCHASES_TRX                       0\n",
              "CREDIT_LIMIT                        0\n",
              "PAYMENTS                            0\n",
              "PRC_FULL_PAYMENT                    0\n",
              "TENURE                              0\n",
              "dtype: int64"
            ]
          },
          "metadata": {},
          "execution_count": 23
        }
      ]
    },
    {
      "cell_type": "code",
      "metadata": {
        "colab": {
          "base_uri": "https://localhost:8080/"
        },
        "id": "GPtvhxDO96se",
        "outputId": "5f2f5c69-f3ab-4914-bc4d-27fa07ce8bd0"
      },
      "source": [
        "x=dataset.iloc[ : , [1,3]].values\n",
        "SC=StandardScaler()\n",
        "x=SC.fit_transform(x)\n",
        "x"
      ],
      "execution_count": null,
      "outputs": [
        {
          "output_type": "execute_result",
          "data": {
            "text/plain": [
              "array([[-0.73198937, -0.42489974],\n",
              "       [ 0.78696085, -0.46955188],\n",
              "       [ 0.44713513, -0.10766823],\n",
              "       ...,\n",
              "       [-0.7403981 , -0.40196519],\n",
              "       [-0.74517423, -0.46955188],\n",
              "       [-0.57257511,  0.04214581]])"
            ]
          },
          "metadata": {},
          "execution_count": 24
        }
      ]
    },
    {
      "cell_type": "markdown",
      "metadata": {
        "id": "97-L43lc-F3O"
      },
      "source": [
        "Detrmine the number of clusters"
      ]
    },
    {
      "cell_type": "code",
      "metadata": {
        "colab": {
          "base_uri": "https://localhost:8080/",
          "height": 295
        },
        "id": "js83o7vW-ewu",
        "outputId": "5df3aaf0-38c3-4b18-e18f-07ae252c66a0"
      },
      "source": [
        "#Elbow Method\n",
        "wcss= []\n",
        "for i in range(1,10):\n",
        "  kmeans=KMeans (n_clusters=i, init=\"k-means++\", random_state=42)\n",
        "  kmeans.fit(x)\n",
        "  wcss.append(kmeans.inertia_)\n",
        "plt.plot(range(1,10), wcss)\n",
        "plt.title(\"The Elbow Method\")\n",
        "plt.xlabel(\"Number of clusters\")\n",
        "plt.ylabel(\"wcss\")\n",
        "plt.show()"
      ],
      "execution_count": null,
      "outputs": [
        {
          "output_type": "display_data",
          "data": {
            "image/png": "[encoded data removed]",
            "text/plain": [
              "<Figure size 432x288 with 1 Axes>"
            ]
          },
          "metadata": {
            "needs_background": "light"
          }
        }
      ]
    },
    {
      "cell_type": "code",
      "metadata": {
        "colab": {
          "base_uri": "https://localhost:8080/"
        },
        "id": "vXz2mxEjFQfW",
        "outputId": "d5fd067c-1a07-47eb-a9b4-5c0c3df07f0c"
      },
      "source": [
        "kmeans=KMeans (n_clusters=5, init=\"k-means++\", random_state=42)\n",
        "y_kmeans=kmeans.fit_predict(x)\n",
        "print(y_kmeans)\n"
      ],
      "execution_count": null,
      "outputs": [
        {
          "output_type": "stream",
          "name": "stdout",
          "text": [
            "[0 2 2 ... 0 0 0]\n"
          ]
        }
      ]
    },
    {
      "cell_type": "code",
      "metadata": {
        "colab": {
          "base_uri": "https://localhost:8080/",
          "height": 295
        },
        "id": "OFPRqTE3F8AW",
        "outputId": "01362d26-2df5-4fb2-a1d2-a67c05d7c5af"
      },
      "source": [
        "plt.scatter(x[y_kmeans==0,0], x[y_kmeans==0, 1], s=50, c=\"red\", label=\"cluster 1\" )\n",
        "plt.scatter(x[y_kmeans==1,0], x[y_kmeans==1,1], s=50, c=\"blue\", label=\"cluster 2\" )\n",
        "plt.scatter(x[y_kmeans==2,0], x[y_kmeans==2,1], s=50, c=\"aquamarine\", label=\"cluster 3\" )\n",
        "plt.scatter(x[y_kmeans==3,0], x[y_kmeans==3,1], s=50, c=\"purple\", label=\"cluster 4\" )\n",
        "plt.scatter(x[y_kmeans==4,0], x[y_kmeans==4,1], s=50, c=\"orange\", label=\"cluster 5\" )\n",
        "#plt.scatter(x[y_kmeans==5,0], x[y_kmeans==5,1], s=50, c=\"green\", label=\"cluster 6\" )\n",
        "#plt.scatter(x[y_kmeans==6,0], x[y_kmeans==6,1], s=50, c=\"pink\", label=\"cluster 7\" )\n",
        "#plt.scatter(x[y_kmeans==7,0], x[y_kmeans==7,1], s=50, c=\"brown\", label=\"cluster 8\" )\n",
        "#plt.scatter(x[y_kmeans==8,0], x[y_kmeans==8,1], s=50, c=\"black\", label=\"cluster 9\" )\n",
        "#plt.scatter(x[y_kmeans==9,0], x[y_kmeans==9,1], s=50, c=\"plum\", label=\"cluster 10\" )\n",
        "#plt.scatter(x[y_kmeans==10,0], x[y_kmeans==10,1], s=50, c=\"khaki\", label=\"cluster 11\" )\n",
        "#plt.scatter(x[y_kmeans==11,0], x[y_kmeans==11,1], s=50, c=\"olive\", label=\"cluster 12\" )\n",
        "#plt.scatter(x[y_kmeans==12,0], x[y_kmeans==12,1], s=50, c=\"lawngreen\", label=\"cluster 13\" )\n",
        "#plt.scatter(x[y_kmeans==13,0], x[y_kmeans==13,1], s=50, c=\"maroon\", label=\"cluster 14\" )\n",
        "#plt.scatter(x[y_kmeans==14,0], x[y_kmeans==14,1], s=50, c=\"goldenrod\", label=\"cluster 15\" )\n",
        "plt.scatter(kmeans.cluster_centers_[ : , 0], kmeans.cluster_centers_[ : , 1], s=100, c=\"plum\", label=\"centroids\")\n",
        "plt.title(\"The Cluster Of Customers\")\n",
        "plt.xlabel(\"Balance\")\n",
        "plt.ylabel(\"Parchases\")\n",
        "plt.legend()\n",
        "plt.show()\n"
      ],
      "execution_count": null,
      "outputs": [
        {
          "output_type": "display_data",
          "data": {
            "image/png": "[encoded data removed]",
            "text/plain": [
              "<Figure size 432x288 with 1 Axes>"
            ]
          },
          "metadata": {
            "needs_background": "light"
          }
        }
      ]
    },
    {
      "cell_type": "markdown",
      "metadata": {
        "id": "zEtOV5b1NrEm"
      },
      "source": [
        "Dendogram"
      ]
    },
    {
      "cell_type": "code",
      "metadata": {
        "colab": {
          "base_uri": "https://localhost:8080/",
          "height": 298
        },
        "id": "fQ-WxDFPNxPt",
        "outputId": "aa419cbc-ecc4-4ca8-c4de-912752c00901"
      },
      "source": [
        "dendrogram=sch.dendrogram(sch.linkage(x, method=\"ward\"))\n",
        "plt.title(\"Dendrogram\")\n",
        "plt.xlabel(\"Customers\")\n",
        "plt.ylabel(\"Euclidean Distances\")\n",
        "plt.show()\n"
      ],
      "execution_count": null,
      "outputs": [
        {
          "output_type": "display_data",
          "data": {
            "image/png": "[encoded data removed]",
            "text/plain": [
              "<Figure size 432x288 with 1 Axes>"
            ]
          },
          "metadata": {
            "needs_background": "light"
          }
        }
      ]
    },
    {
      "cell_type": "code",
      "metadata": {
        "colab": {
          "base_uri": "https://localhost:8080/",
          "height": 112
        },
        "id": "M5UCRwNJSA_8",
        "outputId": "6fe281b4-f139-4e22-ed6f-4323fe45429a"
      },
      "source": [
        "pd.DataFrame({'Method': ['Elbow', 'Dendogram'], 'Clusters': [5,4]})"
      ],
      "execution_count": null,
      "outputs": [
        {
          "output_type": "execute_result",
          "data": {
            "text/html": [
              "<div>\n",
              "<style scoped>\n",
              "    .dataframe tbody tr th:only-of-type {\n",
              "        vertical-align: middle;\n",
              "    }\n",
              "\n",
              "    .dataframe tbody tr th {\n",
              "        vertical-align: top;\n",
              "    }\n",
              "\n",
              "    .dataframe thead th {\n",
              "        text-align: right;\n",
              "    }\n",
              "</style>\n",
              "<table border=\"1\" class=\"dataframe\">\n",
              "  <thead>\n",
              "    <tr style=\"text-align: right;\">\n",
              "      <th></th>\n",
              "      <th>Method</th>\n",
              "      <th>Clusters</th>\n",
              "    </tr>\n",
              "  </thead>\n",
              "  <tbody>\n",
              "    <tr>\n",
              "      <th>0</th>\n",
              "      <td>Elbow</td>\n",
              "      <td>5</td>\n",
              "    </tr>\n",
              "    <tr>\n",
              "      <th>1</th>\n",
              "      <td>Dendogram</td>\n",
              "      <td>4</td>\n",
              "    </tr>\n",
              "  </tbody>\n",
              "</table>\n",
              "</div>"
            ],
            "text/plain": [
              "      Method  Clusters\n",
              "0      Elbow         5\n",
              "1  Dendogram         4"
            ]
          },
          "metadata": {},
          "execution_count": 41
        }
      ]
    }
  ]
}